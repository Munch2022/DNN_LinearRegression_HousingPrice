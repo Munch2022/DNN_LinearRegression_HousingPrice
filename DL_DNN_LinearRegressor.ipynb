{
 "cells": [
  {
   "cell_type": "markdown",
   "id": "40b02b3f",
   "metadata": {},
   "source": [
    "#  DNN - Dense Neural Network (REgressor)"
   ]
  },
  {
   "cell_type": "code",
   "execution_count": null,
   "id": "52f02efd",
   "metadata": {},
   "outputs": [],
   "source": [
    "# Both Overfitting and Underfitting will lead to a problem. wE dont want OV- high variance \n",
    "# and neither UF-high bais. We need a good balanced model and so there comes Regularization.\n",
    "\n",
    "# Regularization gives break to the model while training. it doesnt let the model gets trained \n",
    "# continuesly. it helps to minimize the adjusted loss function(error) and prevent OF, UF problem\n",
    "# it rstricts the training a little so that it balances. If model is UF then regularization will let \n",
    "# the model train more n more. on the other hand if its OF then restricts the training. \n",
    "# so its dynamic and based the on the situation its decides whether to train more or restrict the model\n",
    "# there is L1 and L2 regularization. We also have DROP OUT- which ia again a regularization technique.\n",
    "# DROP OUT- randomly removes the nodes from each layer in every iteration due to which the stucture \n",
    "# of the neural network and we can have different insights in the data.\n"
   ]
  },
  {
   "cell_type": "code",
   "execution_count": null,
   "id": "a662e7ac",
   "metadata": {},
   "outputs": [],
   "source": [
    "# Deep LEarning Libraries-\n",
    "# 1. TensorFlow- developed & designed by google, 2. Keras- by google, 3.PyTorch- developed by FB\n",
    "\n"
   ]
  },
  {
   "cell_type": "code",
   "execution_count": 1,
   "id": "5974c127",
   "metadata": {},
   "outputs": [
    {
     "data": {
      "text/html": [
       "<div>\n",
       "<style scoped>\n",
       "    .dataframe tbody tr th:only-of-type {\n",
       "        vertical-align: middle;\n",
       "    }\n",
       "\n",
       "    .dataframe tbody tr th {\n",
       "        vertical-align: top;\n",
       "    }\n",
       "\n",
       "    .dataframe thead th {\n",
       "        text-align: right;\n",
       "    }\n",
       "</style>\n",
       "<table border=\"1\" class=\"dataframe\">\n",
       "  <thead>\n",
       "    <tr style=\"text-align: right;\">\n",
       "      <th></th>\n",
       "      <th>Unnamed: 0</th>\n",
       "      <th>Id</th>\n",
       "      <th>MSSubClass</th>\n",
       "      <th>MSZoning</th>\n",
       "      <th>LotArea</th>\n",
       "      <th>Street</th>\n",
       "      <th>LotShape</th>\n",
       "      <th>LandContour</th>\n",
       "      <th>Utilities</th>\n",
       "      <th>LotConfig</th>\n",
       "      <th>...</th>\n",
       "      <th>EnclosedPorch</th>\n",
       "      <th>3SsnPorch</th>\n",
       "      <th>ScreenPorch</th>\n",
       "      <th>PoolArea</th>\n",
       "      <th>MiscVal</th>\n",
       "      <th>MoSold</th>\n",
       "      <th>YrSold</th>\n",
       "      <th>SaleType</th>\n",
       "      <th>SaleCondition</th>\n",
       "      <th>SalePrice</th>\n",
       "    </tr>\n",
       "  </thead>\n",
       "  <tbody>\n",
       "    <tr>\n",
       "      <th>0</th>\n",
       "      <td>0</td>\n",
       "      <td>1</td>\n",
       "      <td>60</td>\n",
       "      <td>RL</td>\n",
       "      <td>8450</td>\n",
       "      <td>Pave</td>\n",
       "      <td>Reg</td>\n",
       "      <td>Lvl</td>\n",
       "      <td>AllPub</td>\n",
       "      <td>Inside</td>\n",
       "      <td>...</td>\n",
       "      <td>0</td>\n",
       "      <td>0</td>\n",
       "      <td>0</td>\n",
       "      <td>0</td>\n",
       "      <td>0</td>\n",
       "      <td>2</td>\n",
       "      <td>2008</td>\n",
       "      <td>WD</td>\n",
       "      <td>Normal</td>\n",
       "      <td>208500</td>\n",
       "    </tr>\n",
       "    <tr>\n",
       "      <th>1</th>\n",
       "      <td>1</td>\n",
       "      <td>2</td>\n",
       "      <td>20</td>\n",
       "      <td>RL</td>\n",
       "      <td>9600</td>\n",
       "      <td>Pave</td>\n",
       "      <td>Reg</td>\n",
       "      <td>Lvl</td>\n",
       "      <td>AllPub</td>\n",
       "      <td>FR2</td>\n",
       "      <td>...</td>\n",
       "      <td>0</td>\n",
       "      <td>0</td>\n",
       "      <td>0</td>\n",
       "      <td>0</td>\n",
       "      <td>0</td>\n",
       "      <td>5</td>\n",
       "      <td>2007</td>\n",
       "      <td>WD</td>\n",
       "      <td>Normal</td>\n",
       "      <td>181500</td>\n",
       "    </tr>\n",
       "    <tr>\n",
       "      <th>2</th>\n",
       "      <td>2</td>\n",
       "      <td>3</td>\n",
       "      <td>60</td>\n",
       "      <td>RL</td>\n",
       "      <td>11250</td>\n",
       "      <td>Pave</td>\n",
       "      <td>IR1</td>\n",
       "      <td>Lvl</td>\n",
       "      <td>AllPub</td>\n",
       "      <td>Inside</td>\n",
       "      <td>...</td>\n",
       "      <td>0</td>\n",
       "      <td>0</td>\n",
       "      <td>0</td>\n",
       "      <td>0</td>\n",
       "      <td>0</td>\n",
       "      <td>9</td>\n",
       "      <td>2008</td>\n",
       "      <td>WD</td>\n",
       "      <td>Normal</td>\n",
       "      <td>223500</td>\n",
       "    </tr>\n",
       "    <tr>\n",
       "      <th>3</th>\n",
       "      <td>3</td>\n",
       "      <td>4</td>\n",
       "      <td>70</td>\n",
       "      <td>RL</td>\n",
       "      <td>9550</td>\n",
       "      <td>Pave</td>\n",
       "      <td>IR1</td>\n",
       "      <td>Lvl</td>\n",
       "      <td>AllPub</td>\n",
       "      <td>Corner</td>\n",
       "      <td>...</td>\n",
       "      <td>272</td>\n",
       "      <td>0</td>\n",
       "      <td>0</td>\n",
       "      <td>0</td>\n",
       "      <td>0</td>\n",
       "      <td>2</td>\n",
       "      <td>2006</td>\n",
       "      <td>WD</td>\n",
       "      <td>Abnorml</td>\n",
       "      <td>140000</td>\n",
       "    </tr>\n",
       "    <tr>\n",
       "      <th>4</th>\n",
       "      <td>4</td>\n",
       "      <td>5</td>\n",
       "      <td>60</td>\n",
       "      <td>RL</td>\n",
       "      <td>14260</td>\n",
       "      <td>Pave</td>\n",
       "      <td>IR1</td>\n",
       "      <td>Lvl</td>\n",
       "      <td>AllPub</td>\n",
       "      <td>FR2</td>\n",
       "      <td>...</td>\n",
       "      <td>0</td>\n",
       "      <td>0</td>\n",
       "      <td>0</td>\n",
       "      <td>0</td>\n",
       "      <td>0</td>\n",
       "      <td>12</td>\n",
       "      <td>2008</td>\n",
       "      <td>WD</td>\n",
       "      <td>Normal</td>\n",
       "      <td>250000</td>\n",
       "    </tr>\n",
       "  </tbody>\n",
       "</table>\n",
       "<p>5 rows × 63 columns</p>\n",
       "</div>"
      ],
      "text/plain": [
       "   Unnamed: 0  Id  MSSubClass MSZoning  LotArea Street LotShape LandContour  \\\n",
       "0           0   1          60       RL     8450   Pave      Reg         Lvl   \n",
       "1           1   2          20       RL     9600   Pave      Reg         Lvl   \n",
       "2           2   3          60       RL    11250   Pave      IR1         Lvl   \n",
       "3           3   4          70       RL     9550   Pave      IR1         Lvl   \n",
       "4           4   5          60       RL    14260   Pave      IR1         Lvl   \n",
       "\n",
       "  Utilities LotConfig  ... EnclosedPorch 3SsnPorch ScreenPorch PoolArea  \\\n",
       "0    AllPub    Inside  ...             0         0           0        0   \n",
       "1    AllPub       FR2  ...             0         0           0        0   \n",
       "2    AllPub    Inside  ...             0         0           0        0   \n",
       "3    AllPub    Corner  ...           272         0           0        0   \n",
       "4    AllPub       FR2  ...             0         0           0        0   \n",
       "\n",
       "  MiscVal MoSold  YrSold  SaleType  SaleCondition  SalePrice  \n",
       "0       0      2    2008        WD         Normal     208500  \n",
       "1       0      5    2007        WD         Normal     181500  \n",
       "2       0      9    2008        WD         Normal     223500  \n",
       "3       0      2    2006        WD        Abnorml     140000  \n",
       "4       0     12    2008        WD         Normal     250000  \n",
       "\n",
       "[5 rows x 63 columns]"
      ]
     },
     "execution_count": 1,
     "metadata": {},
     "output_type": "execute_result"
    }
   ],
   "source": [
    "import pandas as pd\n",
    "Hdf= pd.read_csv(r\"C:\\Users\\Manjula\\Desktop\\DataScienceAssignments\\Csv_filesforDS/houseRegressionStudents (1).csv\")\n",
    "Hdf.head()"
   ]
  },
  {
   "cell_type": "code",
   "execution_count": 2,
   "id": "b6bf03aa",
   "metadata": {},
   "outputs": [
    {
     "name": "stdout",
     "output_type": "stream",
     "text": [
      "<class 'pandas.core.frame.DataFrame'>\n",
      "RangeIndex: 1460 entries, 0 to 1459\n",
      "Data columns (total 63 columns):\n",
      " #   Column         Non-Null Count  Dtype \n",
      "---  ------         --------------  ----- \n",
      " 0   Unnamed: 0     1460 non-null   int64 \n",
      " 1   Id             1460 non-null   int64 \n",
      " 2   MSSubClass     1460 non-null   int64 \n",
      " 3   MSZoning       1460 non-null   object\n",
      " 4   LotArea        1460 non-null   int64 \n",
      " 5   Street         1460 non-null   object\n",
      " 6   LotShape       1460 non-null   object\n",
      " 7   LandContour    1460 non-null   object\n",
      " 8   Utilities      1460 non-null   object\n",
      " 9   LotConfig      1460 non-null   object\n",
      " 10  LandSlope      1460 non-null   object\n",
      " 11  Neighborhood   1460 non-null   object\n",
      " 12  Condition1     1460 non-null   object\n",
      " 13  Condition2     1460 non-null   object\n",
      " 14  BldgType       1460 non-null   object\n",
      " 15  HouseStyle     1460 non-null   object\n",
      " 16  OverallQual    1460 non-null   int64 \n",
      " 17  OverallCond    1460 non-null   int64 \n",
      " 18  YearBuilt      1460 non-null   int64 \n",
      " 19  YearRemodAdd   1460 non-null   int64 \n",
      " 20  RoofStyle      1460 non-null   object\n",
      " 21  RoofMatl       1460 non-null   object\n",
      " 22  Exterior1st    1460 non-null   object\n",
      " 23  Exterior2nd    1460 non-null   object\n",
      " 24  ExterQual      1460 non-null   object\n",
      " 25  ExterCond      1460 non-null   object\n",
      " 26  Foundation     1460 non-null   object\n",
      " 27  BsmtFinSF1     1460 non-null   int64 \n",
      " 28  BsmtFinSF2     1460 non-null   int64 \n",
      " 29  BsmtUnfSF      1460 non-null   int64 \n",
      " 30  TotalBsmtSF    1460 non-null   int64 \n",
      " 31  Heating        1460 non-null   object\n",
      " 32  HeatingQC      1460 non-null   object\n",
      " 33  CentralAir     1460 non-null   object\n",
      " 34  1stFlrSF       1460 non-null   int64 \n",
      " 35  2ndFlrSF       1460 non-null   int64 \n",
      " 36  LowQualFinSF   1460 non-null   int64 \n",
      " 37  GrLivArea      1460 non-null   int64 \n",
      " 38  BsmtFullBath   1460 non-null   int64 \n",
      " 39  BsmtHalfBath   1460 non-null   int64 \n",
      " 40  FullBath       1460 non-null   int64 \n",
      " 41  HalfBath       1460 non-null   int64 \n",
      " 42  BedroomAbvGr   1460 non-null   int64 \n",
      " 43  KitchenAbvGr   1460 non-null   int64 \n",
      " 44  KitchenQual    1460 non-null   object\n",
      " 45  TotRmsAbvGrd   1460 non-null   int64 \n",
      " 46  Functional     1460 non-null   object\n",
      " 47  Fireplaces     1460 non-null   int64 \n",
      " 48  GarageCars     1460 non-null   int64 \n",
      " 49  GarageArea     1460 non-null   int64 \n",
      " 50  PavedDrive     1460 non-null   object\n",
      " 51  WoodDeckSF     1460 non-null   int64 \n",
      " 52  OpenPorchSF    1460 non-null   int64 \n",
      " 53  EnclosedPorch  1460 non-null   int64 \n",
      " 54  3SsnPorch      1460 non-null   int64 \n",
      " 55  ScreenPorch    1460 non-null   int64 \n",
      " 56  PoolArea       1460 non-null   int64 \n",
      " 57  MiscVal        1460 non-null   int64 \n",
      " 58  MoSold         1460 non-null   int64 \n",
      " 59  YrSold         1460 non-null   int64 \n",
      " 60  SaleType       1460 non-null   object\n",
      " 61  SaleCondition  1460 non-null   object\n",
      " 62  SalePrice      1460 non-null   int64 \n",
      "dtypes: int64(36), object(27)\n",
      "memory usage: 718.7+ KB\n"
     ]
    }
   ],
   "source": [
    "Hdf.info()"
   ]
  },
  {
   "cell_type": "code",
   "execution_count": 3,
   "id": "20c75e75",
   "metadata": {},
   "outputs": [],
   "source": [
    "#  here since we have lots of cols with obejct datatype, lets remove them for now and take \n",
    "# only the int data types\n",
    "\n",
    "numcols_df= Hdf.select_dtypes(['int64']) "
   ]
  },
  {
   "cell_type": "code",
   "execution_count": 4,
   "id": "8cd67101",
   "metadata": {},
   "outputs": [
    {
     "name": "stdout",
     "output_type": "stream",
     "text": [
      "<class 'pandas.core.frame.DataFrame'>\n",
      "RangeIndex: 1460 entries, 0 to 1459\n",
      "Data columns (total 36 columns):\n",
      " #   Column         Non-Null Count  Dtype\n",
      "---  ------         --------------  -----\n",
      " 0   Unnamed: 0     1460 non-null   int64\n",
      " 1   Id             1460 non-null   int64\n",
      " 2   MSSubClass     1460 non-null   int64\n",
      " 3   LotArea        1460 non-null   int64\n",
      " 4   OverallQual    1460 non-null   int64\n",
      " 5   OverallCond    1460 non-null   int64\n",
      " 6   YearBuilt      1460 non-null   int64\n",
      " 7   YearRemodAdd   1460 non-null   int64\n",
      " 8   BsmtFinSF1     1460 non-null   int64\n",
      " 9   BsmtFinSF2     1460 non-null   int64\n",
      " 10  BsmtUnfSF      1460 non-null   int64\n",
      " 11  TotalBsmtSF    1460 non-null   int64\n",
      " 12  1stFlrSF       1460 non-null   int64\n",
      " 13  2ndFlrSF       1460 non-null   int64\n",
      " 14  LowQualFinSF   1460 non-null   int64\n",
      " 15  GrLivArea      1460 non-null   int64\n",
      " 16  BsmtFullBath   1460 non-null   int64\n",
      " 17  BsmtHalfBath   1460 non-null   int64\n",
      " 18  FullBath       1460 non-null   int64\n",
      " 19  HalfBath       1460 non-null   int64\n",
      " 20  BedroomAbvGr   1460 non-null   int64\n",
      " 21  KitchenAbvGr   1460 non-null   int64\n",
      " 22  TotRmsAbvGrd   1460 non-null   int64\n",
      " 23  Fireplaces     1460 non-null   int64\n",
      " 24  GarageCars     1460 non-null   int64\n",
      " 25  GarageArea     1460 non-null   int64\n",
      " 26  WoodDeckSF     1460 non-null   int64\n",
      " 27  OpenPorchSF    1460 non-null   int64\n",
      " 28  EnclosedPorch  1460 non-null   int64\n",
      " 29  3SsnPorch      1460 non-null   int64\n",
      " 30  ScreenPorch    1460 non-null   int64\n",
      " 31  PoolArea       1460 non-null   int64\n",
      " 32  MiscVal        1460 non-null   int64\n",
      " 33  MoSold         1460 non-null   int64\n",
      " 34  YrSold         1460 non-null   int64\n",
      " 35  SalePrice      1460 non-null   int64\n",
      "dtypes: int64(36)\n",
      "memory usage: 410.8 KB\n"
     ]
    }
   ],
   "source": [
    "numcols_df.info()"
   ]
  },
  {
   "cell_type": "code",
   "execution_count": 5,
   "id": "f2912999",
   "metadata": {},
   "outputs": [
    {
     "data": {
      "text/plain": [
       "Unnamed: 0       0\n",
       "Id               0\n",
       "MSSubClass       0\n",
       "LotArea          0\n",
       "OverallQual      0\n",
       "OverallCond      0\n",
       "YearBuilt        0\n",
       "YearRemodAdd     0\n",
       "BsmtFinSF1       0\n",
       "BsmtFinSF2       0\n",
       "BsmtUnfSF        0\n",
       "TotalBsmtSF      0\n",
       "1stFlrSF         0\n",
       "2ndFlrSF         0\n",
       "LowQualFinSF     0\n",
       "GrLivArea        0\n",
       "BsmtFullBath     0\n",
       "BsmtHalfBath     0\n",
       "FullBath         0\n",
       "HalfBath         0\n",
       "BedroomAbvGr     0\n",
       "KitchenAbvGr     0\n",
       "TotRmsAbvGrd     0\n",
       "Fireplaces       0\n",
       "GarageCars       0\n",
       "GarageArea       0\n",
       "WoodDeckSF       0\n",
       "OpenPorchSF      0\n",
       "EnclosedPorch    0\n",
       "3SsnPorch        0\n",
       "ScreenPorch      0\n",
       "PoolArea         0\n",
       "MiscVal          0\n",
       "MoSold           0\n",
       "YrSold           0\n",
       "SalePrice        0\n",
       "dtype: int64"
      ]
     },
     "execution_count": 5,
     "metadata": {},
     "output_type": "execute_result"
    }
   ],
   "source": [
    "numcols_df.isnull().sum()   # we dont have any nullvalues so we can proceed further"
   ]
  },
  {
   "cell_type": "code",
   "execution_count": 6,
   "id": "3cf7d640",
   "metadata": {},
   "outputs": [],
   "source": [
    "#  sinec we dont need ID, Unnamed cols, we will delete then to keep the clean data ready for modeling\n",
    "newHdf= numcols_df.drop(columns=['Id', 'Unnamed: 0'], axis=1)"
   ]
  },
  {
   "cell_type": "code",
   "execution_count": 7,
   "id": "e0c719b2",
   "metadata": {},
   "outputs": [
    {
     "data": {
      "text/html": [
       "<div>\n",
       "<style scoped>\n",
       "    .dataframe tbody tr th:only-of-type {\n",
       "        vertical-align: middle;\n",
       "    }\n",
       "\n",
       "    .dataframe tbody tr th {\n",
       "        vertical-align: top;\n",
       "    }\n",
       "\n",
       "    .dataframe thead th {\n",
       "        text-align: right;\n",
       "    }\n",
       "</style>\n",
       "<table border=\"1\" class=\"dataframe\">\n",
       "  <thead>\n",
       "    <tr style=\"text-align: right;\">\n",
       "      <th></th>\n",
       "      <th>MSSubClass</th>\n",
       "      <th>LotArea</th>\n",
       "      <th>OverallQual</th>\n",
       "      <th>OverallCond</th>\n",
       "      <th>YearBuilt</th>\n",
       "      <th>YearRemodAdd</th>\n",
       "      <th>BsmtFinSF1</th>\n",
       "      <th>BsmtFinSF2</th>\n",
       "      <th>BsmtUnfSF</th>\n",
       "      <th>TotalBsmtSF</th>\n",
       "      <th>...</th>\n",
       "      <th>WoodDeckSF</th>\n",
       "      <th>OpenPorchSF</th>\n",
       "      <th>EnclosedPorch</th>\n",
       "      <th>3SsnPorch</th>\n",
       "      <th>ScreenPorch</th>\n",
       "      <th>PoolArea</th>\n",
       "      <th>MiscVal</th>\n",
       "      <th>MoSold</th>\n",
       "      <th>YrSold</th>\n",
       "      <th>SalePrice</th>\n",
       "    </tr>\n",
       "  </thead>\n",
       "  <tbody>\n",
       "    <tr>\n",
       "      <th>0</th>\n",
       "      <td>60</td>\n",
       "      <td>8450</td>\n",
       "      <td>7</td>\n",
       "      <td>5</td>\n",
       "      <td>2003</td>\n",
       "      <td>2003</td>\n",
       "      <td>706</td>\n",
       "      <td>0</td>\n",
       "      <td>150</td>\n",
       "      <td>856</td>\n",
       "      <td>...</td>\n",
       "      <td>0</td>\n",
       "      <td>61</td>\n",
       "      <td>0</td>\n",
       "      <td>0</td>\n",
       "      <td>0</td>\n",
       "      <td>0</td>\n",
       "      <td>0</td>\n",
       "      <td>2</td>\n",
       "      <td>2008</td>\n",
       "      <td>208500</td>\n",
       "    </tr>\n",
       "    <tr>\n",
       "      <th>1</th>\n",
       "      <td>20</td>\n",
       "      <td>9600</td>\n",
       "      <td>6</td>\n",
       "      <td>8</td>\n",
       "      <td>1976</td>\n",
       "      <td>1976</td>\n",
       "      <td>978</td>\n",
       "      <td>0</td>\n",
       "      <td>284</td>\n",
       "      <td>1262</td>\n",
       "      <td>...</td>\n",
       "      <td>298</td>\n",
       "      <td>0</td>\n",
       "      <td>0</td>\n",
       "      <td>0</td>\n",
       "      <td>0</td>\n",
       "      <td>0</td>\n",
       "      <td>0</td>\n",
       "      <td>5</td>\n",
       "      <td>2007</td>\n",
       "      <td>181500</td>\n",
       "    </tr>\n",
       "  </tbody>\n",
       "</table>\n",
       "<p>2 rows × 34 columns</p>\n",
       "</div>"
      ],
      "text/plain": [
       "   MSSubClass  LotArea  OverallQual  OverallCond  YearBuilt  YearRemodAdd  \\\n",
       "0          60     8450            7            5       2003          2003   \n",
       "1          20     9600            6            8       1976          1976   \n",
       "\n",
       "   BsmtFinSF1  BsmtFinSF2  BsmtUnfSF  TotalBsmtSF  ...  WoodDeckSF  \\\n",
       "0         706           0        150          856  ...           0   \n",
       "1         978           0        284         1262  ...         298   \n",
       "\n",
       "   OpenPorchSF  EnclosedPorch  3SsnPorch  ScreenPorch  PoolArea  MiscVal  \\\n",
       "0           61              0          0            0         0        0   \n",
       "1            0              0          0            0         0        0   \n",
       "\n",
       "   MoSold  YrSold  SalePrice  \n",
       "0       2    2008     208500  \n",
       "1       5    2007     181500  \n",
       "\n",
       "[2 rows x 34 columns]"
      ]
     },
     "execution_count": 7,
     "metadata": {},
     "output_type": "execute_result"
    }
   ],
   "source": [
    "newHdf.head(2)"
   ]
  },
  {
   "cell_type": "code",
   "execution_count": 8,
   "id": "7bb7f462",
   "metadata": {},
   "outputs": [],
   "source": [
    "# get X, Y \n",
    "\n",
    "X= newHdf.drop(['SalePrice'], axis=1)\n",
    "Y= newHdf['SalePrice']"
   ]
  },
  {
   "cell_type": "code",
   "execution_count": 9,
   "id": "d9f34d56",
   "metadata": {},
   "outputs": [
    {
     "data": {
      "text/plain": [
       "array([[ 0.07337496, -0.20714171,  0.65147924, -0.51719981,  1.05099379,\n",
       "         0.87866809,  0.57542484, -0.28865283, -0.94459061, -0.45930254,\n",
       "        -0.79343379,  1.16185159, -0.12024172,  0.37033344,  1.10781015,\n",
       "        -0.24106104,  0.78974052,  1.22758538,  0.16377912, -0.21145358,\n",
       "         0.91220977, -0.95122649,  0.31172464,  0.35100032, -0.75217584,\n",
       "         0.21650316, -0.3593249 , -0.11633929, -0.27020835, -0.06869175,\n",
       "        -0.08768781, -1.5991111 ,  0.13877749],\n",
       "       [-0.87256276, -0.09188637, -0.07183611,  2.17962776,  0.15673371,\n",
       "        -0.42957697,  1.17199212, -0.28865283, -0.64122799,  0.46646492,\n",
       "         0.25714043, -0.79516323, -0.12024172, -0.48251191, -0.81996437,\n",
       "         3.94880935,  0.78974052, -0.76162067,  0.16377912, -0.21145358,\n",
       "        -0.31868327,  0.60049493,  0.31172464, -0.06073101,  1.62619479,\n",
       "        -0.70448325, -0.3593249 , -0.11633929, -0.27020835, -0.06869175,\n",
       "        -0.08768781, -0.48911005, -0.61443862]])"
      ]
     },
     "execution_count": 9,
     "metadata": {},
     "output_type": "execute_result"
    }
   ],
   "source": [
    "# we will Standar scale the X values\n",
    "\n",
    "from sklearn.preprocessing import StandardScaler\n",
    "X_scaledata= StandardScaler()\n",
    "X_scaledata= X_scaledata.fit_transform(X)\n",
    "X_scaledata[:2]"
   ]
  },
  {
   "cell_type": "code",
   "execution_count": 10,
   "id": "2ea52254",
   "metadata": {},
   "outputs": [
    {
     "data": {
      "text/plain": [
       "(1460, 33)"
      ]
     },
     "execution_count": 10,
     "metadata": {},
     "output_type": "execute_result"
    }
   ],
   "source": [
    "X_scaledata.shape"
   ]
  },
  {
   "cell_type": "code",
   "execution_count": 11,
   "id": "c879b1bd",
   "metadata": {},
   "outputs": [],
   "source": [
    "#  split the data \n",
    "from sklearn.model_selection import train_test_split\n",
    "xtrain, xtest, ytrain, ytest= train_test_split(X_scaledata, Y, test_size=0.20, random_state=20)"
   ]
  },
  {
   "cell_type": "code",
   "execution_count": 12,
   "id": "f654dfb2",
   "metadata": {},
   "outputs": [
    {
     "data": {
      "text/plain": [
       "((1168, 33), (292, 33))"
      ]
     },
     "execution_count": 12,
     "metadata": {},
     "output_type": "execute_result"
    }
   ],
   "source": [
    "xtrain.shape, xtest.shape"
   ]
  },
  {
   "cell_type": "code",
   "execution_count": 14,
   "id": "79caaaa2",
   "metadata": {},
   "outputs": [
    {
     "data": {
      "text/plain": [
       "array([[-0.16310947, -0.41840975, -0.79515147, ..., -0.08768781,\n",
       "        -0.48911005,  1.64520971],\n",
       "       [-0.87256276, -0.08687527, -0.07183611, ..., -0.08768781,\n",
       "        -0.8591104 ,  0.8919936 ],\n",
       "       [-0.16310947, -0.35096032, -0.79515147, ..., -0.08768781,\n",
       "         0.25089065,  0.8919936 ],\n",
       "       ...,\n",
       "       [-0.87256276,  2.86506443,  0.65147924, ..., -0.08768781,\n",
       "        -0.8591104 ,  0.13877749],\n",
       "       [ 1.49228154, -0.51983444,  1.3747946 , ..., -0.08768781,\n",
       "         0.620891  , -0.61443862],\n",
       "       [ 0.54634382, -0.0783564 , -0.79515147, ..., -0.08768781,\n",
       "        -0.48911005,  0.13877749]])"
      ]
     },
     "execution_count": 14,
     "metadata": {},
     "output_type": "execute_result"
    }
   ],
   "source": [
    "xtrain"
   ]
  },
  {
   "cell_type": "code",
   "execution_count": 18,
   "id": "bbd5bdab",
   "metadata": {},
   "outputs": [
    {
     "data": {
      "text/plain": [
       "array([[-0.16310947, -0.41840975, -0.79515147,  2.17962776, -3.1884614 ,\n",
       "         0.53949344, -0.97301818, -0.28865283,  0.48166645, -0.63259891,\n",
       "        -0.99009301, -0.24518248, -0.12024172, -0.9432007 , -0.81996437,\n",
       "        -0.24106104, -1.02604084, -0.76162067, -1.06246453, -0.21145358,\n",
       "        -0.31868327, -0.95122649, -2.36543995, -2.21296298, -0.75217584,\n",
       "        -0.70448325,  2.52128304, -0.11633929, -0.27020835, -0.06869175,\n",
       "        -0.08768781, -0.48911005,  1.64520971],\n",
       "       [-0.87256276, -0.08687527, -0.07183611, -0.51719981,  0.18985445,\n",
       "        -0.38112344,  0.5315596 , -0.28865283,  0.21905404,  0.66712387,\n",
       "         0.44344916, -0.79516323, -0.12024172, -0.34544748, -0.81996437,\n",
       "         3.94880935,  0.78974052, -0.76162067, -1.06246453, -0.21145358,\n",
       "        -0.31868327,  0.60049493,  0.31172464,  0.73465906, -0.75217584,\n",
       "        -0.46291304, -0.3593249 , -0.11633929, -0.27020835, -0.06869175,\n",
       "        -0.08768781, -0.8591104 ,  0.8919936 ]])"
      ]
     },
     "execution_count": 18,
     "metadata": {},
     "output_type": "execute_result"
    }
   ],
   "source": [
    "xtrain[:2]         "
   ]
  },
  {
   "cell_type": "code",
   "execution_count": 19,
   "id": "f38744a4",
   "metadata": {},
   "outputs": [],
   "source": [
    "ytrain= ytrain.values    #we already have xtrain xtest in array form so converting only y\n",
    "ytest= ytest.values"
   ]
  },
  {
   "cell_type": "code",
   "execution_count": 20,
   "id": "b08be55a",
   "metadata": {},
   "outputs": [
    {
     "data": {
      "text/plain": [
       "(array([[-0.16310947, -0.41840975, -0.79515147,  2.17962776, -3.1884614 ,\n",
       "          0.53949344, -0.97301818, -0.28865283,  0.48166645, -0.63259891,\n",
       "         -0.99009301, -0.24518248, -0.12024172, -0.9432007 , -0.81996437,\n",
       "         -0.24106104, -1.02604084, -0.76162067, -1.06246453, -0.21145358,\n",
       "         -0.31868327, -0.95122649, -2.36543995, -2.21296298, -0.75217584,\n",
       "         -0.70448325,  2.52128304, -0.11633929, -0.27020835, -0.06869175,\n",
       "         -0.08768781, -0.48911005,  1.64520971],\n",
       "        [-0.87256276, -0.08687527, -0.07183611, -0.51719981,  0.18985445,\n",
       "         -0.38112344,  0.5315596 , -0.28865283,  0.21905404,  0.66712387,\n",
       "          0.44344916, -0.79516323, -0.12024172, -0.34544748, -0.81996437,\n",
       "          3.94880935,  0.78974052, -0.76162067, -1.06246453, -0.21145358,\n",
       "         -0.31868327,  0.60049493,  0.31172464,  0.73465906, -0.75217584,\n",
       "         -0.46291304, -0.3593249 , -0.11633929, -0.27020835, -0.06869175,\n",
       "         -0.08768781, -0.8591104 ,  0.8919936 ],\n",
       "        [-0.16310947, -0.35096032, -0.79515147, -1.41614233, -0.70440562,\n",
       "         -1.6893685 , -0.5672647 , -0.28865283, -0.09789197, -0.79449421,\n",
       "         -0.47515638, -0.28184787, -0.12024172, -0.5948286 ,  1.10781015,\n",
       "         -0.24106104, -1.02604084, -0.76162067,  0.16377912, -0.21145358,\n",
       "         -0.93412978,  0.60049493, -1.02685765, -0.56603765, -0.75217584,\n",
       "         -0.70448325,  3.69971357, -0.11633929, -0.27020835, -0.06869175,\n",
       "         -0.08768781,  0.25089065,  0.8919936 ],\n",
       "        [ 2.43821926, -0.73030071, -0.07183611, -0.51719981,  0.91851081,\n",
       "          0.68485401, -0.05404138, -0.28865283, -0.58236659, -0.7488899 ,\n",
       "         -1.12206169,  0.87540328, -0.12024172, -0.10939207, -0.81996437,\n",
       "         -0.24106104,  0.78974052,  1.22758538, -1.06246453, -0.21145358,\n",
       "         -0.93412978,  0.60049493,  0.31172464, -0.15430632, -0.75217584,\n",
       "         -0.22134284, -0.3593249 , -0.11633929, -0.27020835, -0.06869175,\n",
       "         -0.08768781, -0.1191097 , -0.61443862],\n",
       "        [-0.87256276, -0.16354512, -0.79515147, -0.51719981,  0.38857892,\n",
       "         -0.09040232, -0.3128463 ,  1.72047485, -0.7431035 , -0.44106082,\n",
       "         -0.67440322, -0.79516323, -0.12024172, -1.16783407,  1.10781015,\n",
       "         -0.24106104, -1.02604084, -0.76162067, -1.06246453, -0.21145358,\n",
       "         -0.93412978, -0.95122649,  0.31172464,  0.05155935,  0.55672612,\n",
       "         -0.70448325, -0.3593249 , -0.11633929, -0.27020835, -0.06869175,\n",
       "         -0.08768781, -0.1191097 , -1.36765473]]),\n",
       " array([ 94000, 167900, 110000, 176000, 131000], dtype=int64))"
      ]
     },
     "execution_count": 20,
     "metadata": {},
     "output_type": "execute_result"
    }
   ],
   "source": [
    "xtrain[:5], ytrain[:5]   # now got them  in array form"
   ]
  },
  {
   "cell_type": "code",
   "execution_count": 23,
   "id": "357e49e5",
   "metadata": {},
   "outputs": [],
   "source": [
    "# below how to import tensorflow, keras, layers (from the net).. \n",
    "# import tensorflow as tf\n",
    "# from tensorflow import keras\n",
    "# from tensorflow.keras import layers"
   ]
  },
  {
   "cell_type": "code",
   "execution_count": 26,
   "id": "0762b02f",
   "metadata": {},
   "outputs": [
    {
     "name": "stdout",
     "output_type": "stream",
     "text": [
      "Collecting tensorflow\n",
      "  Downloading tensorflow-2.9.1-cp39-cp39-win_amd64.whl (444.0 MB)\n",
      "Collecting opt-einsum>=2.3.2\n",
      "  Downloading opt_einsum-3.3.0-py3-none-any.whl (65 kB)\n",
      "Requirement already satisfied: setuptools in c:\\users\\manjula\\anaconda3\\lib\\site-packages (from tensorflow) (58.0.4)\n",
      "Collecting protobuf<3.20,>=3.9.2\n",
      "  Downloading protobuf-3.19.4-cp39-cp39-win_amd64.whl (895 kB)\n",
      "Collecting grpcio<2.0,>=1.24.3\n",
      "  Downloading grpcio-1.47.0-cp39-cp39-win_amd64.whl (3.6 MB)\n",
      "Collecting keras<2.10.0,>=2.9.0rc0\n",
      "  Downloading keras-2.9.0-py2.py3-none-any.whl (1.6 MB)\n",
      "Collecting tensorflow-estimator<2.10.0,>=2.9.0rc0\n",
      "  Downloading tensorflow_estimator-2.9.0-py2.py3-none-any.whl (438 kB)\n",
      "Requirement already satisfied: packaging in c:\\users\\manjula\\anaconda3\\lib\\site-packages (from tensorflow) (21.0)\n",
      "Collecting astunparse>=1.6.0\n",
      "  Downloading astunparse-1.6.3-py2.py3-none-any.whl (12 kB)\n",
      "Collecting libclang>=13.0.0\n",
      "  Downloading libclang-14.0.1-py2.py3-none-win_amd64.whl (14.2 MB)\n",
      "Collecting google-pasta>=0.1.1\n",
      "  Downloading google_pasta-0.2.0-py3-none-any.whl (57 kB)\n",
      "Collecting keras-preprocessing>=1.1.1\n",
      "  Downloading Keras_Preprocessing-1.1.2-py2.py3-none-any.whl (42 kB)\n",
      "Requirement already satisfied: typing-extensions>=3.6.6 in c:\\users\\manjula\\anaconda3\\lib\\site-packages (from tensorflow) (3.10.0.2)\n",
      "Collecting absl-py>=1.0.0\n",
      "  Downloading absl_py-1.2.0-py3-none-any.whl (123 kB)\n",
      "Collecting flatbuffers<2,>=1.12\n",
      "  Downloading flatbuffers-1.12-py2.py3-none-any.whl (15 kB)\n",
      "Requirement already satisfied: wrapt>=1.11.0 in c:\\users\\manjula\\anaconda3\\lib\\site-packages (from tensorflow) (1.12.1)\n",
      "Collecting termcolor>=1.1.0\n",
      "  Downloading termcolor-1.1.0.tar.gz (3.9 kB)\n",
      "Collecting tensorboard<2.10,>=2.9\n",
      "  Downloading tensorboard-2.9.1-py3-none-any.whl (5.8 MB)\n",
      "Requirement already satisfied: six>=1.12.0 in c:\\users\\manjula\\anaconda3\\lib\\site-packages (from tensorflow) (1.16.0)\n",
      "Requirement already satisfied: numpy>=1.20 in c:\\users\\manjula\\anaconda3\\lib\\site-packages (from tensorflow) (1.20.3)\n",
      "Collecting tensorflow-io-gcs-filesystem>=0.23.1\n",
      "  Downloading tensorflow_io_gcs_filesystem-0.26.0-cp39-cp39-win_amd64.whl (1.5 MB)\n",
      "Requirement already satisfied: h5py>=2.9.0 in c:\\users\\manjula\\anaconda3\\lib\\site-packages (from tensorflow) (3.2.1)\n",
      "Collecting gast<=0.4.0,>=0.2.1\n",
      "  Downloading gast-0.4.0-py3-none-any.whl (9.8 kB)\n",
      "Requirement already satisfied: wheel<1.0,>=0.23.0 in c:\\users\\manjula\\anaconda3\\lib\\site-packages (from astunparse>=1.6.0->tensorflow) (0.37.0)\n",
      "Collecting google-auth<3,>=1.6.3\n",
      "  Downloading google_auth-2.9.1-py2.py3-none-any.whl (167 kB)\n",
      "Collecting markdown>=2.6.8\n",
      "  Downloading Markdown-3.4.1-py3-none-any.whl (93 kB)\n",
      "Collecting tensorboard-plugin-wit>=1.6.0\n",
      "  Downloading tensorboard_plugin_wit-1.8.1-py3-none-any.whl (781 kB)\n",
      "Collecting google-auth-oauthlib<0.5,>=0.4.1\n",
      "  Downloading google_auth_oauthlib-0.4.6-py2.py3-none-any.whl (18 kB)\n",
      "Requirement already satisfied: requests<3,>=2.21.0 in c:\\users\\manjula\\anaconda3\\lib\\site-packages (from tensorboard<2.10,>=2.9->tensorflow) (2.26.0)\n",
      "Collecting tensorboard-data-server<0.7.0,>=0.6.0\n",
      "  Downloading tensorboard_data_server-0.6.1-py3-none-any.whl (2.4 kB)\n",
      "Requirement already satisfied: werkzeug>=1.0.1 in c:\\users\\manjula\\anaconda3\\lib\\site-packages (from tensorboard<2.10,>=2.9->tensorflow) (2.0.2)\n",
      "Collecting pyasn1-modules>=0.2.1\n",
      "  Downloading pyasn1_modules-0.2.8-py2.py3-none-any.whl (155 kB)\n",
      "Collecting rsa<5,>=3.1.4\n",
      "  Downloading rsa-4.9-py3-none-any.whl (34 kB)\n",
      "Collecting cachetools<6.0,>=2.0.0\n",
      "  Downloading cachetools-5.2.0-py3-none-any.whl (9.3 kB)\n",
      "Collecting requests-oauthlib>=0.7.0\n",
      "  Downloading requests_oauthlib-1.3.1-py2.py3-none-any.whl (23 kB)\n",
      "Requirement already satisfied: importlib-metadata>=4.4 in c:\\users\\manjula\\anaconda3\\lib\\site-packages (from markdown>=2.6.8->tensorboard<2.10,>=2.9->tensorflow) (4.8.1)\n",
      "Requirement already satisfied: zipp>=0.5 in c:\\users\\manjula\\anaconda3\\lib\\site-packages (from importlib-metadata>=4.4->markdown>=2.6.8->tensorboard<2.10,>=2.9->tensorflow) (3.6.0)\n",
      "Collecting pyasn1<0.5.0,>=0.4.6\n",
      "  Downloading pyasn1-0.4.8-py2.py3-none-any.whl (77 kB)\n",
      "Requirement already satisfied: urllib3<1.27,>=1.21.1 in c:\\users\\manjula\\anaconda3\\lib\\site-packages (from requests<3,>=2.21.0->tensorboard<2.10,>=2.9->tensorflow) (1.26.7)\n",
      "Requirement already satisfied: idna<4,>=2.5 in c:\\users\\manjula\\anaconda3\\lib\\site-packages (from requests<3,>=2.21.0->tensorboard<2.10,>=2.9->tensorflow) (3.2)\n",
      "Requirement already satisfied: certifi>=2017.4.17 in c:\\users\\manjula\\anaconda3\\lib\\site-packages (from requests<3,>=2.21.0->tensorboard<2.10,>=2.9->tensorflow) (2021.10.8)\n",
      "Requirement already satisfied: charset-normalizer~=2.0.0 in c:\\users\\manjula\\anaconda3\\lib\\site-packages (from requests<3,>=2.21.0->tensorboard<2.10,>=2.9->tensorflow) (2.0.4)\n",
      "Collecting oauthlib>=3.0.0\n",
      "  Downloading oauthlib-3.2.0-py3-none-any.whl (151 kB)\n",
      "Requirement already satisfied: pyparsing>=2.0.2 in c:\\users\\manjula\\anaconda3\\lib\\site-packages (from packaging->tensorflow) (3.0.4)\n",
      "Building wheels for collected packages: termcolor\n",
      "  Building wheel for termcolor (setup.py): started\n",
      "  Building wheel for termcolor (setup.py): finished with status 'done'\n",
      "  Created wheel for termcolor: filename=termcolor-1.1.0-py3-none-any.whl size=4847 sha256=f6ccbbd11bab9e03dc33e23b97fde6a89f70e84283a4c2e9dfe6afff7c4918f2\n",
      "  Stored in directory: c:\\users\\manjula\\appdata\\local\\pip\\cache\\wheels\\b6\\0d\\90\\0d1bbd99855f99cb2f6c2e5ff96f8023fad8ec367695f7d72d\n",
      "Successfully built termcolor\n",
      "Installing collected packages: pyasn1, rsa, pyasn1-modules, oauthlib, cachetools, requests-oauthlib, google-auth, tensorboard-plugin-wit, tensorboard-data-server, protobuf, markdown, grpcio, google-auth-oauthlib, absl-py, termcolor, tensorflow-io-gcs-filesystem, tensorflow-estimator, tensorboard, opt-einsum, libclang, keras-preprocessing, keras, google-pasta, gast, flatbuffers, astunparse, tensorflow\n",
      "Successfully installed absl-py-1.2.0 astunparse-1.6.3 cachetools-5.2.0 flatbuffers-1.12 gast-0.4.0 google-auth-2.9.1 google-auth-oauthlib-0.4.6 google-pasta-0.2.0 grpcio-1.47.0 keras-2.9.0 keras-preprocessing-1.1.2 libclang-14.0.1 markdown-3.4.1 oauthlib-3.2.0 opt-einsum-3.3.0 protobuf-3.19.4 pyasn1-0.4.8 pyasn1-modules-0.2.8 requests-oauthlib-1.3.1 rsa-4.9 tensorboard-2.9.1 tensorboard-data-server-0.6.1 tensorboard-plugin-wit-1.8.1 tensorflow-2.9.1 tensorflow-estimator-2.9.0 tensorflow-io-gcs-filesystem-0.26.0 termcolor-1.1.0\n"
     ]
    }
   ],
   "source": [
    "# !pip install tensorflow        # to install tensorflow"
   ]
  },
  {
   "cell_type": "code",
   "execution_count": 21,
   "id": "6b3977c1",
   "metadata": {},
   "outputs": [],
   "source": [
    "import tensorflow as tf\n",
    "from tensorflow.keras.models import Sequential\n",
    "from tensorflow.keras.layers import Dense\n",
    "\n",
    "# import needed libraries for the model building"
   ]
  },
  {
   "cell_type": "markdown",
   "id": "3e08f662",
   "metadata": {},
   "source": [
    "# before moving forward we have to learn about the activation function and optimizers\n",
    "\n",
    "Relu- activation function\n",
    "Optimizer- ADAM"
   ]
  },
  {
   "cell_type": "code",
   "execution_count": null,
   "id": "c7487845",
   "metadata": {},
   "outputs": [],
   "source": [
    "# RElu-  Rectified Linear Unit. This is better than sigmoid an tanh function coz here there is always \n",
    "# a slope where slop of tangent can be calculated and new values to W and B can be assigend so \n",
    "# the learning will not be stopped. even if y=mx+c gets a high/low value there is still a constant slop maintained.\n",
    "#  thats why we use Rule over sigmoid and tanh.\n"
   ]
  },
  {
   "cell_type": "code",
   "execution_count": null,
   "id": "fb979995",
   "metadata": {},
   "outputs": [],
   "source": [
    "# in every error curve there will be many local minimums but only one global minimum where the error \n",
    "# will be low. GD can see one of local minumums and assume that it has reached the minimum error. \n",
    "# So to get rid of this problem there comes ADAM optimizer.\n",
    "# Whereever there are lots of error local minimums in error curve then we use ADAMS\n",
    "# ADAM Optimizer- which will check all the local and a global\n",
    "# minimums to come to a conclusion and whereevr it finds the lowest error point it considers that. \n"
   ]
  },
  {
   "cell_type": "code",
   "execution_count": 90,
   "id": "905079c2",
   "metadata": {},
   "outputs": [
    {
     "name": "stdout",
     "output_type": "stream",
     "text": [
      "Model: \"sequential_29\"\n",
      "_________________________________________________________________\n",
      " Layer (type)                Output Shape              Param #   \n",
      "=================================================================\n",
      " dense_186 (Dense)           (None, 50)                1700      \n",
      "                                                                 \n",
      " dense_187 (Dense)           (None, 40)                2040      \n",
      "                                                                 \n",
      " dense_188 (Dense)           (None, 30)                1230      \n",
      "                                                                 \n",
      " dense_189 (Dense)           (None, 50)                1550      \n",
      "                                                                 \n",
      " dense_190 (Dense)           (None, 20)                1020      \n",
      "                                                                 \n",
      " dense_191 (Dense)           (None, 30)                630       \n",
      "                                                                 \n",
      " dense_192 (Dense)           (None, 1)                 31        \n",
      "                                                                 \n",
      "=================================================================\n",
      "Total params: 8,201\n",
      "Trainable params: 8,201\n",
      "Non-trainable params: 0\n",
      "_________________________________________________________________\n"
     ]
    }
   ],
   "source": [
    "#  now lets setup the dense model with the no. of layers and neurons we want\n",
    "\n",
    "model= Sequential()\n",
    "model.add(Dense(50, input_shape=(33,), activation= 'relu'))   # Dense(no. of neurons in that layer, total input cols, activation to be used)\n",
    "model.add(Dense(40, activation= 'relu'))\n",
    "model.add(Dense(30, activation= 'relu'))\n",
    "model.add(Dense(50, activation= 'relu'))\n",
    "model.add(Dense(20, activation= 'relu'))\n",
    "model.add(Dense(30, activation= 'relu'))     # you can change the no. of neurons in each layer\n",
    "\n",
    "model.add(Dense(1, kernel_initializer='normal'))\n",
    "model.compile(loss= 'mean_absolute_error', optimizer= 'adam')\n",
    "model.summary()\n",
    "\n",
    "# we see the total no. of learnable parameters to get the best result"
   ]
  },
  {
   "cell_type": "code",
   "execution_count": 91,
   "id": "fc2c85e3",
   "metadata": {},
   "outputs": [
    {
     "name": "stdout",
     "output_type": "stream",
     "text": [
      "Epoch 1/20\n",
      "15/15 [==============================] - 1s 14ms/step - loss: 180464.2344 - val_loss: 180428.3594\n",
      "Epoch 2/20\n",
      "15/15 [==============================] - 0s 5ms/step - loss: 180463.2656 - val_loss: 180426.3125\n",
      "Epoch 3/20\n",
      "15/15 [==============================] - 0s 6ms/step - loss: 180457.8281 - val_loss: 180414.2031\n",
      "Epoch 4/20\n",
      "15/15 [==============================] - 0s 8ms/step - loss: 180425.7188 - val_loss: 180344.4688\n",
      "Epoch 5/20\n",
      "15/15 [==============================] - 0s 7ms/step - loss: 180254.0312 - val_loss: 179984.0000\n",
      "Epoch 6/20\n",
      "15/15 [==============================] - 0s 8ms/step - loss: 179449.8281 - val_loss: 178409.0156\n",
      "Epoch 7/20\n",
      "15/15 [==============================] - 0s 8ms/step - loss: 176267.5312 - val_loss: 172583.2188\n",
      "Epoch 8/20\n",
      "15/15 [==============================] - 0s 9ms/step - loss: 165466.9531 - val_loss: 153909.0156\n",
      "Epoch 9/20\n",
      "15/15 [==============================] - 0s 7ms/step - loss: 135713.7969 - val_loss: 110419.2188\n",
      "Epoch 10/20\n",
      "15/15 [==============================] - 0s 8ms/step - loss: 87694.7734 - val_loss: 64169.8477\n",
      "Epoch 11/20\n",
      "15/15 [==============================] - 0s 8ms/step - loss: 58999.5977 - val_loss: 50033.6523\n",
      "Epoch 12/20\n",
      "15/15 [==============================] - 0s 8ms/step - loss: 47047.9453 - val_loss: 45088.9062\n",
      "Epoch 13/20\n",
      "15/15 [==============================] - 0s 8ms/step - loss: 41973.8945 - val_loss: 41465.3594\n",
      "Epoch 14/20\n",
      "15/15 [==============================] - 0s 8ms/step - loss: 38077.5000 - val_loss: 38599.3516\n",
      "Epoch 15/20\n",
      "15/15 [==============================] - 0s 8ms/step - loss: 35016.6484 - val_loss: 36039.8984\n",
      "Epoch 16/20\n",
      "15/15 [==============================] - 0s 8ms/step - loss: 32403.4531 - val_loss: 34434.4180\n",
      "Epoch 17/20\n",
      "15/15 [==============================] - 0s 8ms/step - loss: 30510.9688 - val_loss: 32756.4258\n",
      "Epoch 18/20\n",
      "15/15 [==============================] - 0s 8ms/step - loss: 28710.0098 - val_loss: 31477.5977\n",
      "Epoch 19/20\n",
      "15/15 [==============================] - 0s 8ms/step - loss: 27451.9590 - val_loss: 30452.0977\n",
      "Epoch 20/20\n",
      "15/15 [==============================] - 0s 8ms/step - loss: 26354.6504 - val_loss: 29498.4688\n"
     ]
    },
    {
     "data": {
      "text/plain": [
       "<keras.callbacks.History at 0x1d69a1e22e0>"
      ]
     },
     "execution_count": 91,
     "metadata": {},
     "output_type": "execute_result"
    }
   ],
   "source": [
    "#  the model is not setup. we can fit the model to the training data\n",
    "\n",
    "model.fit(xtrain, ytrain, epochs=20, batch_size= 64, validation_split= 0.20)\n",
    "\n",
    "#epochs is no. of times to retrain the model, batch_size will take the no. of rows in each iteration(here i have given 64)"
   ]
  },
  {
   "cell_type": "markdown",
   "id": "7f0f24d7",
   "metadata": {},
   "source": [
    "# from the above we got lowest error as 33347. Lets change the hyperparameter to get more less error\n",
    "\n"
   ]
  },
  {
   "cell_type": "code",
   "execution_count": 82,
   "id": "611b0e71",
   "metadata": {},
   "outputs": [
    {
     "name": "stdout",
     "output_type": "stream",
     "text": [
      "Model: \"sequential_27\"\n",
      "_________________________________________________________________\n",
      " Layer (type)                Output Shape              Param #   \n",
      "=================================================================\n",
      " dense_172 (Dense)           (None, 150)               5100      \n",
      "                                                                 \n",
      " dense_173 (Dense)           (None, 256)               38656     \n",
      "                                                                 \n",
      " dense_174 (Dense)           (None, 182)               46774     \n",
      "                                                                 \n",
      " dense_175 (Dense)           (None, 200)               36600     \n",
      "                                                                 \n",
      " dense_176 (Dense)           (None, 150)               30150     \n",
      "                                                                 \n",
      " dense_177 (Dense)           (None, 50)                7550      \n",
      "                                                                 \n",
      " dense_178 (Dense)           (None, 1)                 51        \n",
      "                                                                 \n",
      "=================================================================\n",
      "Total params: 164,881\n",
      "Trainable params: 164,881\n",
      "Non-trainable params: 0\n",
      "_________________________________________________________________\n"
     ]
    }
   ],
   "source": [
    "model= Sequential()\n",
    "model.add(Dense(150, input_shape=(33,), activation= 'relu'))   # Dense(no. of neurons in that layer, total input cols, activation to be used)\n",
    "model.add(Dense(256, activation= 'relu'))\n",
    "model.add(Dense(182, activation= 'relu'))\n",
    "model.add(Dense(200, activation= 'relu'))\n",
    "model.add(Dense(150, activation= 'relu')) \n",
    "model.add(Dense(50, activation= 'relu'))\n",
    "                                                # you can change the no. of neurons in each layerdel.add(Dense(100, activation= 'relu'))\n",
    "model.add(Dense(1, kernel_initializer='normal'))\n",
    "model.compile(loss= 'mean_absolute_error', optimizer= 'adam')\n",
    "model.summary()"
   ]
  },
  {
   "cell_type": "code",
   "execution_count": 84,
   "id": "71bd554f",
   "metadata": {},
   "outputs": [
    {
     "name": "stdout",
     "output_type": "stream",
     "text": [
      "Epoch 1/15\n",
      "15/15 [==============================] - 0s 9ms/step - loss: 17746.0098 - val_loss: 22064.2539\n",
      "Epoch 2/15\n",
      "15/15 [==============================] - 0s 8ms/step - loss: 17741.3320 - val_loss: 22363.8457\n",
      "Epoch 3/15\n",
      "15/15 [==============================] - 0s 9ms/step - loss: 17250.3320 - val_loss: 21622.7676\n",
      "Epoch 4/15\n",
      "15/15 [==============================] - 0s 10ms/step - loss: 16836.1543 - val_loss: 21885.4238\n",
      "Epoch 5/15\n",
      "15/15 [==============================] - 0s 10ms/step - loss: 16612.3828 - val_loss: 22856.4316\n",
      "Epoch 6/15\n",
      "15/15 [==============================] - 0s 10ms/step - loss: 16781.2363 - val_loss: 21545.6445\n",
      "Epoch 7/15\n",
      "15/15 [==============================] - 0s 11ms/step - loss: 16404.6641 - val_loss: 21435.3164\n",
      "Epoch 8/15\n",
      "15/15 [==============================] - 0s 10ms/step - loss: 16182.5703 - val_loss: 21520.2871\n",
      "Epoch 9/15\n",
      "15/15 [==============================] - 0s 10ms/step - loss: 16101.4014 - val_loss: 21428.0859\n",
      "Epoch 10/15\n",
      "15/15 [==============================] - 0s 11ms/step - loss: 16029.7627 - val_loss: 21347.0352\n",
      "Epoch 11/15\n",
      "15/15 [==============================] - 0s 10ms/step - loss: 15968.9805 - val_loss: 22055.0312\n",
      "Epoch 12/15\n",
      "15/15 [==============================] - 0s 11ms/step - loss: 16161.6895 - val_loss: 21235.4629\n",
      "Epoch 13/15\n",
      "15/15 [==============================] - 0s 10ms/step - loss: 15684.7939 - val_loss: 21183.4336\n",
      "Epoch 14/15\n",
      "15/15 [==============================] - 0s 12ms/step - loss: 15632.8125 - val_loss: 21337.3652\n",
      "Epoch 15/15\n",
      "15/15 [==============================] - 0s 13ms/step - loss: 15525.8994 - val_loss: 21283.2070\n"
     ]
    },
    {
     "data": {
      "text/plain": [
       "<keras.callbacks.History at 0x1d69a0dcd90>"
      ]
     },
     "execution_count": 84,
     "metadata": {},
     "output_type": "execute_result"
    }
   ],
   "source": [
    "model.fit(xtrain, ytrain, epochs=15, batch_size= 64, validation_split= 0.20)"
   ]
  },
  {
   "cell_type": "code",
   "execution_count": 85,
   "id": "805007f6",
   "metadata": {},
   "outputs": [
    {
     "name": "stdout",
     "output_type": "stream",
     "text": [
      "10/10 [==============================] - 0s 2ms/step\n",
      "Acuracy: 0.8253399109974864\n",
      "Mean Absolute Error: 19753.472335188355\n"
     ]
    }
   ],
   "source": [
    "ypred= model.predict(xtest)\n",
    "from sklearn.metrics import r2_score, mean_absolute_error\n",
    "accuracy= r2_score(ytest, ypred)\n",
    "\n",
    "msE= mean_absolute_error(ytest, ypred)\n",
    "print(\"Acuracy:\", accuracy)\n",
    "print(\"Mean Absolute Error:\", msE)"
   ]
  },
  {
   "cell_type": "code",
   "execution_count": 87,
   "id": "25fe4778",
   "metadata": {},
   "outputs": [
    {
     "name": "stdout",
     "output_type": "stream",
     "text": [
      "37/37 [==============================] - 0s 5ms/step - loss: 16438.2246\n",
      "10/10 [==============================] - 0s 5ms/step - loss: 19753.4707\n"
     ]
    },
    {
     "data": {
      "text/plain": [
       "19753.470703125"
      ]
     },
     "execution_count": 87,
     "metadata": {},
     "output_type": "execute_result"
    }
   ],
   "source": [
    "model.evaluate(xtrain,ytrain)      # to chevk the error of training vs testing in model\n",
    "model.evaluate(xtest,ytest)"
   ]
  },
  {
   "cell_type": "code",
   "execution_count": null,
   "id": "8483dac8",
   "metadata": {},
   "outputs": [],
   "source": []
  },
  {
   "cell_type": "code",
   "execution_count": null,
   "id": "a4c45ee3",
   "metadata": {},
   "outputs": [],
   "source": []
  },
  {
   "cell_type": "code",
   "execution_count": null,
   "id": "e512e33d",
   "metadata": {},
   "outputs": [],
   "source": []
  },
  {
   "cell_type": "code",
   "execution_count": null,
   "id": "1bd5bb7a",
   "metadata": {},
   "outputs": [],
   "source": []
  }
 ],
 "metadata": {
  "kernelspec": {
   "display_name": "Python 3 (ipykernel)",
   "language": "python",
   "name": "python3"
  },
  "language_info": {
   "codemirror_mode": {
    "name": "ipython",
    "version": 3
   },
   "file_extension": ".py",
   "mimetype": "text/x-python",
   "name": "python",
   "nbconvert_exporter": "python",
   "pygments_lexer": "ipython3",
   "version": "3.9.7"
  }
 },
 "nbformat": 4,
 "nbformat_minor": 5
}
